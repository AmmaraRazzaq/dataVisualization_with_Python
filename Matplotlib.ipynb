{
 "cells": [
  {
   "cell_type": "code",
   "execution_count": 5,
   "metadata": {},
   "outputs": [],
   "source": [
    "import matplotlib.pyplot as plt\n",
    "import numpy as np\n",
    "import pandas as pd"
   ]
  },
  {
   "cell_type": "code",
   "execution_count": 6,
   "metadata": {},
   "outputs": [],
   "source": [
    "x = np.random.randn(10000)"
   ]
  },
  {
   "cell_type": "code",
   "execution_count": 7,
   "metadata": {},
   "outputs": [
    {
     "data": {
      "text/plain": [
       "Text(0.5, 1.0, 'Normal Distribution with $\\\\mu=0, \\\\sigma=1$')"
      ]
     },
     "execution_count": 7,
     "metadata": {},
     "output_type": "execute_result"
    },
    {
     "data": {
      "image/png": "[encoded data removed]",
      "text/plain": [
       "<Figure size 432x288 with 1 Axes>"
      ]
     },
     "metadata": {
      "needs_background": "light"
     },
     "output_type": "display_data"
    }
   ],
   "source": [
    "plt.hist(x,100)\n",
    "plt.title(r'Normal Distribution with $\\mu=0, \\sigma=1$')"
   ]
  },
  {
   "cell_type": "code",
   "execution_count": 8,
   "metadata": {},
   "outputs": [
    {
     "data": {
      "text/plain": [
       "[<matplotlib.lines.Line2D at 0xef0e5b4eb8>]"
      ]
     },
     "execution_count": 8,
     "metadata": {},
     "output_type": "execute_result"
    },
    {
     "data": {
      "image/png": "[encoded data removed]",
      "text/plain": [
       "<Figure size 432x288 with 1 Axes>"
      ]
     },
     "metadata": {
      "needs_background": "light"
     },
     "output_type": "display_data"
    }
   ],
   "source": [
    "plt.plot(5,5,'o')"
   ]
  },
  {
   "cell_type": "code",
   "execution_count": 15,
   "metadata": {},
   "outputs": [],
   "source": [
    "df = pd.read_excel('C:/Users/HP/Downloads/UN_MigFlow_Totals.xlsx',\n",
    "                  sheetname = 'Totals',\n",
    "                  skiprows = range(16))"
   ]
  },
  {
   "cell_type": "code",
   "execution_count": 16,
   "metadata": {},
   "outputs": [
    {
     "data": {
      "text/html": [
       "<div>\n",
       "<style scoped>\n",
       "    .dataframe tbody tr th:only-of-type {\n",
       "        vertical-align: middle;\n",
       "    }\n",
       "\n",
       "    .dataframe tbody tr th {\n",
       "        vertical-align: top;\n",
       "    }\n",
       "\n",
       "    .dataframe thead th {\n",
       "        text-align: right;\n",
       "    }\n",
       "</style>\n",
       "<table border=\"1\" class=\"dataframe\">\n",
       "  <thead>\n",
       "    <tr style=\"text-align: right;\">\n",
       "      <th></th>\n",
       "      <th>CntName</th>\n",
       "      <th>Criteria</th>\n",
       "      <th>Type</th>\n",
       "      <th>Coverage</th>\n",
       "      <th>1980</th>\n",
       "      <th>1981</th>\n",
       "      <th>1982</th>\n",
       "      <th>1983</th>\n",
       "      <th>1984</th>\n",
       "      <th>1985</th>\n",
       "      <th>...</th>\n",
       "      <th>2004</th>\n",
       "      <th>2005</th>\n",
       "      <th>2006</th>\n",
       "      <th>2007</th>\n",
       "      <th>2008</th>\n",
       "      <th>2009</th>\n",
       "      <th>2010</th>\n",
       "      <th>2011</th>\n",
       "      <th>2012</th>\n",
       "      <th>2013</th>\n",
       "    </tr>\n",
       "  </thead>\n",
       "  <tbody>\n",
       "    <tr>\n",
       "      <th>0</th>\n",
       "      <td>Armenia</td>\n",
       "      <td>Residence</td>\n",
       "      <td>Emigrants</td>\n",
       "      <td>Both</td>\n",
       "      <td>..</td>\n",
       "      <td>..</td>\n",
       "      <td>..</td>\n",
       "      <td>..</td>\n",
       "      <td>..</td>\n",
       "      <td>..</td>\n",
       "      <td>...</td>\n",
       "      <td>8451</td>\n",
       "      <td>9303</td>\n",
       "      <td>8053</td>\n",
       "      <td>7461</td>\n",
       "      <td>6121</td>\n",
       "      <td>4100</td>\n",
       "      <td>..</td>\n",
       "      <td>..</td>\n",
       "      <td>..</td>\n",
       "      <td>..</td>\n",
       "    </tr>\n",
       "    <tr>\n",
       "      <th>1</th>\n",
       "      <td>Armenia</td>\n",
       "      <td>Residence</td>\n",
       "      <td>Immigrants</td>\n",
       "      <td>Both</td>\n",
       "      <td>..</td>\n",
       "      <td>..</td>\n",
       "      <td>..</td>\n",
       "      <td>..</td>\n",
       "      <td>..</td>\n",
       "      <td>..</td>\n",
       "      <td>...</td>\n",
       "      <td>1514</td>\n",
       "      <td>1497</td>\n",
       "      <td>1335</td>\n",
       "      <td>1112</td>\n",
       "      <td>864</td>\n",
       "      <td>861</td>\n",
       "      <td>..</td>\n",
       "      <td>..</td>\n",
       "      <td>..</td>\n",
       "      <td>..</td>\n",
       "    </tr>\n",
       "    <tr>\n",
       "      <th>2</th>\n",
       "      <td>Australia</td>\n",
       "      <td>Residence</td>\n",
       "      <td>Emigrants</td>\n",
       "      <td>Both</td>\n",
       "      <td>90860</td>\n",
       "      <td>85600</td>\n",
       "      <td>92340</td>\n",
       "      <td>100510</td>\n",
       "      <td>96360</td>\n",
       "      <td>93440</td>\n",
       "      <td>...</td>\n",
       "      <td>212200</td>\n",
       "      <td>206690</td>\n",
       "      <td>204800</td>\n",
       "      <td>216580</td>\n",
       "      <td>220280</td>\n",
       "      <td>..</td>\n",
       "      <td>..</td>\n",
       "      <td>..</td>\n",
       "      <td>..</td>\n",
       "      <td>..</td>\n",
       "    </tr>\n",
       "    <tr>\n",
       "      <th>3</th>\n",
       "      <td>Australia</td>\n",
       "      <td>Residence</td>\n",
       "      <td>Immigrants</td>\n",
       "      <td>Both</td>\n",
       "      <td>184290</td>\n",
       "      <td>212690</td>\n",
       "      <td>195200</td>\n",
       "      <td>153570</td>\n",
       "      <td>153530</td>\n",
       "      <td>172550</td>\n",
       "      <td>...</td>\n",
       "      <td>350990</td>\n",
       "      <td>363470</td>\n",
       "      <td>402210</td>\n",
       "      <td>460650</td>\n",
       "      <td>535970</td>\n",
       "      <td>..</td>\n",
       "      <td>..</td>\n",
       "      <td>..</td>\n",
       "      <td>..</td>\n",
       "      <td>..</td>\n",
       "    </tr>\n",
       "    <tr>\n",
       "      <th>4</th>\n",
       "      <td>Austria</td>\n",
       "      <td>Citizenship</td>\n",
       "      <td>Emigrants</td>\n",
       "      <td>Citizens</td>\n",
       "      <td>..</td>\n",
       "      <td>..</td>\n",
       "      <td>..</td>\n",
       "      <td>..</td>\n",
       "      <td>..</td>\n",
       "      <td>..</td>\n",
       "      <td>...</td>\n",
       "      <td>21703</td>\n",
       "      <td>20333</td>\n",
       "      <td>19387</td>\n",
       "      <td>17828</td>\n",
       "      <td>18168</td>\n",
       "      <td>16376</td>\n",
       "      <td>16059</td>\n",
       "      <td>14401</td>\n",
       "      <td>15443</td>\n",
       "      <td>15368</td>\n",
       "    </tr>\n",
       "  </tbody>\n",
       "</table>\n",
       "<p>5 rows × 38 columns</p>\n",
       "</div>"
      ],
      "text/plain": [
       "     CntName     Criteria        Type  Coverage    1980    1981    1982  \\\n",
       "0    Armenia    Residence   Emigrants      Both      ..      ..      ..   \n",
       "1    Armenia    Residence  Immigrants      Both      ..      ..      ..   \n",
       "2  Australia    Residence   Emigrants      Both   90860   85600   92340   \n",
       "3  Australia    Residence  Immigrants      Both  184290  212690  195200   \n",
       "4    Austria  Citizenship   Emigrants  Citizens      ..      ..      ..   \n",
       "\n",
       "     1983    1984    1985  ...    2004    2005    2006    2007    2008   2009  \\\n",
       "0      ..      ..      ..  ...    8451    9303    8053    7461    6121   4100   \n",
       "1      ..      ..      ..  ...    1514    1497    1335    1112     864    861   \n",
       "2  100510   96360   93440  ...  212200  206690  204800  216580  220280     ..   \n",
       "3  153570  153530  172550  ...  350990  363470  402210  460650  535970     ..   \n",
       "4      ..      ..      ..  ...   21703   20333   19387   17828   18168  16376   \n",
       "\n",
       "    2010   2011   2012   2013  \n",
       "0     ..     ..     ..     ..  \n",
       "1     ..     ..     ..     ..  \n",
       "2     ..     ..     ..     ..  \n",
       "3     ..     ..     ..     ..  \n",
       "4  16059  14401  15443  15368  \n",
       "\n",
       "[5 rows x 38 columns]"
      ]
     },
     "execution_count": 16,
     "metadata": {},
     "output_type": "execute_result"
    }
   ],
   "source": [
    "df.head()"
   ]
  },
  {
   "cell_type": "code",
   "execution_count": null,
   "metadata": {},
   "outputs": [],
   "source": []
  }
 ],
 "metadata": {
  "kernelspec": {
   "display_name": "Python 3",
   "language": "python",
   "name": "python3"
  },
  "language_info": {
   "codemirror_mode": {
    "name": "ipython",
    "version": 3
   },
   "file_extension": ".py",
   "mimetype": "text/x-python",
   "name": "python",
   "nbconvert_exporter": "python",
   "pygments_lexer": "ipython3",
   "version": "3.7.3"
  }
 },
 "nbformat": 4,
 "nbformat_minor": 2
}
